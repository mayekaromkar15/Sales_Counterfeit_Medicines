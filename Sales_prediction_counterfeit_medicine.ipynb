{
 "cells": [
  {
   "cell_type": "code",
   "execution_count": 1,
   "metadata": {},
   "outputs": [],
   "source": [
    "import pandas as pd\n",
    "import numpy as np\n",
    "\n",
    "file = r\"D:\\Edvancer Python Projects\\Project3\\counterfeit_train .csv\"\n",
    "file1 = r\"D:\\Edvancer Python Projects\\Project3\\counterfeit_test.csv\"\n",
    "\n",
    "cf_train = pd.read_csv(file)\n",
    "cf_test = pd.read_csv(file1)\n",
    "\n",
    "cf_test['Counterfeit_Sales'] = np.nan\n",
    "\n",
    "cf_train[\"data\"] = \"train\"\n",
    "\n",
    "cf_test[\"data\"] = \"test\"\n",
    "\n",
    "cf_test = cf_test[cf_train.columns]\n",
    "\n",
    "cfall = pd.concat([cf_train,cf_test],axis = 0)"
   ]
  },
  {
   "cell_type": "code",
   "execution_count": 2,
   "metadata": {},
   "outputs": [
    {
     "data": {
      "text/html": [
       "<div>\n",
       "<style scoped>\n",
       "    .dataframe tbody tr th:only-of-type {\n",
       "        vertical-align: middle;\n",
       "    }\n",
       "\n",
       "    .dataframe tbody tr th {\n",
       "        vertical-align: top;\n",
       "    }\n",
       "\n",
       "    .dataframe thead th {\n",
       "        text-align: right;\n",
       "    }\n",
       "</style>\n",
       "<table border=\"1\" class=\"dataframe\">\n",
       "  <thead>\n",
       "    <tr style=\"text-align: right;\">\n",
       "      <th></th>\n",
       "      <th>Medicine_ID</th>\n",
       "      <th>Counterfeit_Weight</th>\n",
       "      <th>DistArea_ID</th>\n",
       "      <th>Active_Since</th>\n",
       "      <th>Medicine_MRP</th>\n",
       "      <th>Medicine_Type</th>\n",
       "      <th>SidEffect_Level</th>\n",
       "      <th>Availability_rating</th>\n",
       "      <th>Area_Type</th>\n",
       "      <th>Area_City_Type</th>\n",
       "      <th>Area_dist_level</th>\n",
       "      <th>Counterfeit_Sales</th>\n",
       "      <th>data</th>\n",
       "    </tr>\n",
       "  </thead>\n",
       "  <tbody>\n",
       "    <tr>\n",
       "      <th>0</th>\n",
       "      <td>RRA15</td>\n",
       "      <td>13.100</td>\n",
       "      <td>Area046</td>\n",
       "      <td>1995</td>\n",
       "      <td>160.2366</td>\n",
       "      <td>Antimalarial</td>\n",
       "      <td>critical</td>\n",
       "      <td>0.070422</td>\n",
       "      <td>DownTown</td>\n",
       "      <td>Tier 1</td>\n",
       "      <td>Small</td>\n",
       "      <td>1775.5026</td>\n",
       "      <td>train</td>\n",
       "    </tr>\n",
       "    <tr>\n",
       "      <th>1</th>\n",
       "      <td>YVV26</td>\n",
       "      <td>NaN</td>\n",
       "      <td>Area027</td>\n",
       "      <td>1983</td>\n",
       "      <td>110.4384</td>\n",
       "      <td>Mstablizers</td>\n",
       "      <td>mild</td>\n",
       "      <td>0.013000</td>\n",
       "      <td>CityLimits</td>\n",
       "      <td>Tier 3</td>\n",
       "      <td>Medium</td>\n",
       "      <td>3069.1520</td>\n",
       "      <td>train</td>\n",
       "    </tr>\n",
       "    <tr>\n",
       "      <th>2</th>\n",
       "      <td>LJC15</td>\n",
       "      <td>9.025</td>\n",
       "      <td>Area046</td>\n",
       "      <td>1995</td>\n",
       "      <td>259.4092</td>\n",
       "      <td>Cardiac</td>\n",
       "      <td>mild</td>\n",
       "      <td>0.060783</td>\n",
       "      <td>DownTown</td>\n",
       "      <td>Tier 1</td>\n",
       "      <td>Small</td>\n",
       "      <td>2603.0920</td>\n",
       "      <td>train</td>\n",
       "    </tr>\n",
       "    <tr>\n",
       "      <th>3</th>\n",
       "      <td>GWC40</td>\n",
       "      <td>11.800</td>\n",
       "      <td>Area046</td>\n",
       "      <td>1995</td>\n",
       "      <td>99.9830</td>\n",
       "      <td>OralContraceptives</td>\n",
       "      <td>mild</td>\n",
       "      <td>0.065555</td>\n",
       "      <td>DownTown</td>\n",
       "      <td>Tier 1</td>\n",
       "      <td>Small</td>\n",
       "      <td>1101.7130</td>\n",
       "      <td>train</td>\n",
       "    </tr>\n",
       "    <tr>\n",
       "      <th>4</th>\n",
       "      <td>QMN13</td>\n",
       "      <td>NaN</td>\n",
       "      <td>Area019</td>\n",
       "      <td>1983</td>\n",
       "      <td>56.4402</td>\n",
       "      <td>Hreplacements</td>\n",
       "      <td>critical</td>\n",
       "      <td>0.248859</td>\n",
       "      <td>MidTownResidential</td>\n",
       "      <td>Tier 1</td>\n",
       "      <td>Small</td>\n",
       "      <td>158.9402</td>\n",
       "      <td>train</td>\n",
       "    </tr>\n",
       "  </tbody>\n",
       "</table>\n",
       "</div>"
      ],
      "text/plain": [
       "  Medicine_ID  Counterfeit_Weight DistArea_ID  Active_Since  Medicine_MRP  \\\n",
       "0       RRA15              13.100     Area046          1995      160.2366   \n",
       "1       YVV26                 NaN     Area027          1983      110.4384   \n",
       "2       LJC15               9.025     Area046          1995      259.4092   \n",
       "3       GWC40              11.800     Area046          1995       99.9830   \n",
       "4       QMN13                 NaN     Area019          1983       56.4402   \n",
       "\n",
       "        Medicine_Type SidEffect_Level  Availability_rating  \\\n",
       "0        Antimalarial        critical             0.070422   \n",
       "1         Mstablizers            mild             0.013000   \n",
       "2             Cardiac            mild             0.060783   \n",
       "3  OralContraceptives            mild             0.065555   \n",
       "4       Hreplacements        critical             0.248859   \n",
       "\n",
       "            Area_Type Area_City_Type Area_dist_level  Counterfeit_Sales   data  \n",
       "0            DownTown         Tier 1           Small          1775.5026  train  \n",
       "1          CityLimits         Tier 3          Medium          3069.1520  train  \n",
       "2            DownTown         Tier 1           Small          2603.0920  train  \n",
       "3            DownTown         Tier 1           Small          1101.7130  train  \n",
       "4  MidTownResidential         Tier 1           Small           158.9402  train  "
      ]
     },
     "execution_count": 2,
     "metadata": {},
     "output_type": "execute_result"
    }
   ],
   "source": [
    "cfall.head()"
   ]
  },
  {
   "cell_type": "code",
   "execution_count": 3,
   "metadata": {},
   "outputs": [
    {
     "data": {
      "text/plain": [
       "Medicine_ID             object\n",
       "Counterfeit_Weight     float64\n",
       "DistArea_ID             object\n",
       "Active_Since             int64\n",
       "Medicine_MRP           float64\n",
       "Medicine_Type           object\n",
       "SidEffect_Level         object\n",
       "Availability_rating    float64\n",
       "Area_Type               object\n",
       "Area_City_Type          object\n",
       "Area_dist_level         object\n",
       "Counterfeit_Sales      float64\n",
       "data                    object\n",
       "dtype: object"
      ]
     },
     "execution_count": 3,
     "metadata": {},
     "output_type": "execute_result"
    }
   ],
   "source": [
    "cfall.dtypes"
   ]
  },
  {
   "cell_type": "code",
   "execution_count": 4,
   "metadata": {},
   "outputs": [],
   "source": [
    "cfall.drop([\"Medicine_ID\",\"Area_City_Type\"],axis = 1,inplace  = True)"
   ]
  },
  {
   "cell_type": "code",
   "execution_count": 5,
   "metadata": {},
   "outputs": [
    {
     "data": {
      "text/plain": [
       "Index(['DistArea_ID', 'Medicine_Type', 'SidEffect_Level', 'Area_Type',\n",
       "       'Area_dist_level', 'data'],\n",
       "      dtype='object')"
      ]
     },
     "execution_count": 5,
     "metadata": {},
     "output_type": "execute_result"
    }
   ],
   "source": [
    "cfall.select_dtypes(['object']).columns"
   ]
  },
  {
   "cell_type": "code",
   "execution_count": 6,
   "metadata": {},
   "outputs": [
    {
     "data": {
      "text/html": [
       "<div>\n",
       "<style scoped>\n",
       "    .dataframe tbody tr th:only-of-type {\n",
       "        vertical-align: middle;\n",
       "    }\n",
       "\n",
       "    .dataframe tbody tr th {\n",
       "        vertical-align: top;\n",
       "    }\n",
       "\n",
       "    .dataframe thead th {\n",
       "        text-align: right;\n",
       "    }\n",
       "</style>\n",
       "<table border=\"1\" class=\"dataframe\">\n",
       "  <thead>\n",
       "    <tr style=\"text-align: right;\">\n",
       "      <th></th>\n",
       "      <th>DistArea_ID</th>\n",
       "      <th>Medicine_Type</th>\n",
       "      <th>SidEffect_Level</th>\n",
       "      <th>Area_Type</th>\n",
       "      <th>Area_dist_level</th>\n",
       "    </tr>\n",
       "  </thead>\n",
       "  <tbody>\n",
       "    <tr>\n",
       "      <th>0</th>\n",
       "      <td>Area046</td>\n",
       "      <td>Antimalarial</td>\n",
       "      <td>critical</td>\n",
       "      <td>DownTown</td>\n",
       "      <td>Small</td>\n",
       "    </tr>\n",
       "    <tr>\n",
       "      <th>1</th>\n",
       "      <td>Area027</td>\n",
       "      <td>Mstablizers</td>\n",
       "      <td>mild</td>\n",
       "      <td>CityLimits</td>\n",
       "      <td>Medium</td>\n",
       "    </tr>\n",
       "    <tr>\n",
       "      <th>2</th>\n",
       "      <td>Area046</td>\n",
       "      <td>Cardiac</td>\n",
       "      <td>mild</td>\n",
       "      <td>DownTown</td>\n",
       "      <td>Small</td>\n",
       "    </tr>\n",
       "    <tr>\n",
       "      <th>3</th>\n",
       "      <td>Area046</td>\n",
       "      <td>OralContraceptives</td>\n",
       "      <td>mild</td>\n",
       "      <td>DownTown</td>\n",
       "      <td>Small</td>\n",
       "    </tr>\n",
       "    <tr>\n",
       "      <th>4</th>\n",
       "      <td>Area019</td>\n",
       "      <td>Hreplacements</td>\n",
       "      <td>critical</td>\n",
       "      <td>MidTownResidential</td>\n",
       "      <td>Small</td>\n",
       "    </tr>\n",
       "  </tbody>\n",
       "</table>\n",
       "</div>"
      ],
      "text/plain": [
       "  DistArea_ID       Medicine_Type SidEffect_Level           Area_Type  \\\n",
       "0     Area046        Antimalarial        critical            DownTown   \n",
       "1     Area027         Mstablizers            mild          CityLimits   \n",
       "2     Area046             Cardiac            mild            DownTown   \n",
       "3     Area046  OralContraceptives            mild            DownTown   \n",
       "4     Area019       Hreplacements        critical  MidTownResidential   \n",
       "\n",
       "  Area_dist_level  \n",
       "0           Small  \n",
       "1          Medium  \n",
       "2           Small  \n",
       "3           Small  \n",
       "4           Small  "
      ]
     },
     "execution_count": 6,
     "metadata": {},
     "output_type": "execute_result"
    }
   ],
   "source": [
    "cfall[['DistArea_ID', 'Medicine_Type', 'SidEffect_Level', 'Area_Type','Area_dist_level']].head()"
   ]
  },
  {
   "cell_type": "code",
   "execution_count": 7,
   "metadata": {},
   "outputs": [
    {
     "data": {
      "text/html": [
       "<div>\n",
       "<style scoped>\n",
       "    .dataframe tbody tr th:only-of-type {\n",
       "        vertical-align: middle;\n",
       "    }\n",
       "\n",
       "    .dataframe tbody tr th {\n",
       "        vertical-align: top;\n",
       "    }\n",
       "\n",
       "    .dataframe thead th {\n",
       "        text-align: right;\n",
       "    }\n",
       "</style>\n",
       "<table border=\"1\" class=\"dataframe\">\n",
       "  <thead>\n",
       "    <tr style=\"text-align: right;\">\n",
       "      <th>Area_dist_level</th>\n",
       "      <th>High</th>\n",
       "      <th>Medium</th>\n",
       "      <th>Small</th>\n",
       "      <th>Unknown</th>\n",
       "    </tr>\n",
       "    <tr>\n",
       "      <th>DistArea_ID</th>\n",
       "      <th></th>\n",
       "      <th></th>\n",
       "      <th></th>\n",
       "      <th></th>\n",
       "    </tr>\n",
       "  </thead>\n",
       "  <tbody>\n",
       "    <tr>\n",
       "      <th>Area010</th>\n",
       "      <td>0</td>\n",
       "      <td>0</td>\n",
       "      <td>0</td>\n",
       "      <td>555</td>\n",
       "    </tr>\n",
       "    <tr>\n",
       "      <th>Area013</th>\n",
       "      <td>932</td>\n",
       "      <td>0</td>\n",
       "      <td>0</td>\n",
       "      <td>0</td>\n",
       "    </tr>\n",
       "    <tr>\n",
       "      <th>Area017</th>\n",
       "      <td>0</td>\n",
       "      <td>0</td>\n",
       "      <td>0</td>\n",
       "      <td>926</td>\n",
       "    </tr>\n",
       "    <tr>\n",
       "      <th>Area018</th>\n",
       "      <td>0</td>\n",
       "      <td>928</td>\n",
       "      <td>0</td>\n",
       "      <td>0</td>\n",
       "    </tr>\n",
       "    <tr>\n",
       "      <th>Area019</th>\n",
       "      <td>0</td>\n",
       "      <td>0</td>\n",
       "      <td>528</td>\n",
       "      <td>0</td>\n",
       "    </tr>\n",
       "    <tr>\n",
       "      <th>Area027</th>\n",
       "      <td>0</td>\n",
       "      <td>935</td>\n",
       "      <td>0</td>\n",
       "      <td>0</td>\n",
       "    </tr>\n",
       "    <tr>\n",
       "      <th>Area035</th>\n",
       "      <td>0</td>\n",
       "      <td>0</td>\n",
       "      <td>930</td>\n",
       "      <td>0</td>\n",
       "    </tr>\n",
       "    <tr>\n",
       "      <th>Area045</th>\n",
       "      <td>0</td>\n",
       "      <td>0</td>\n",
       "      <td>0</td>\n",
       "      <td>929</td>\n",
       "    </tr>\n",
       "    <tr>\n",
       "      <th>Area046</th>\n",
       "      <td>0</td>\n",
       "      <td>0</td>\n",
       "      <td>930</td>\n",
       "      <td>0</td>\n",
       "    </tr>\n",
       "    <tr>\n",
       "      <th>Area049</th>\n",
       "      <td>0</td>\n",
       "      <td>930</td>\n",
       "      <td>0</td>\n",
       "      <td>0</td>\n",
       "    </tr>\n",
       "  </tbody>\n",
       "</table>\n",
       "</div>"
      ],
      "text/plain": [
       "Area_dist_level  High  Medium  Small  Unknown\n",
       "DistArea_ID                                  \n",
       "Area010             0       0      0      555\n",
       "Area013           932       0      0        0\n",
       "Area017             0       0      0      926\n",
       "Area018             0     928      0        0\n",
       "Area019             0       0    528        0\n",
       "Area027             0     935      0        0\n",
       "Area035             0       0    930        0\n",
       "Area045             0       0      0      929\n",
       "Area046             0       0    930        0\n",
       "Area049             0     930      0        0"
      ]
     },
     "execution_count": 7,
     "metadata": {},
     "output_type": "execute_result"
    }
   ],
   "source": [
    "pd.crosstab(cfall[\"DistArea_ID\"],cfall[\"Area_dist_level\"])"
   ]
  },
  {
   "cell_type": "code",
   "execution_count": 8,
   "metadata": {},
   "outputs": [],
   "source": [
    "del cfall[\"Area_dist_level\"]"
   ]
  },
  {
   "cell_type": "code",
   "execution_count": 9,
   "metadata": {},
   "outputs": [
    {
     "data": {
      "text/plain": [
       "DownTown              5577\n",
       "MidTownResidential    1083\n",
       "CityLimits             935\n",
       "Industrial             928\n",
       "Name: Area_Type, dtype: int64"
      ]
     },
     "execution_count": 9,
     "metadata": {},
     "output_type": "execute_result"
    }
   ],
   "source": [
    "cfall[\"Area_Type\"].value_counts()"
   ]
  },
  {
   "cell_type": "code",
   "execution_count": 10,
   "metadata": {},
   "outputs": [],
   "source": [
    "cat_cols = cfall.select_dtypes([\"object\"]).columns"
   ]
  },
  {
   "cell_type": "code",
   "execution_count": 11,
   "metadata": {},
   "outputs": [],
   "source": [
    "cat_cols = cat_cols[:-1]"
   ]
  },
  {
   "cell_type": "code",
   "execution_count": 12,
   "metadata": {},
   "outputs": [
    {
     "data": {
      "text/plain": [
       "Index(['DistArea_ID', 'Medicine_Type', 'SidEffect_Level', 'Area_Type'], dtype='object')"
      ]
     },
     "execution_count": 12,
     "metadata": {},
     "output_type": "execute_result"
    }
   ],
   "source": [
    "cat_cols"
   ]
  },
  {
   "cell_type": "code",
   "execution_count": 13,
   "metadata": {},
   "outputs": [
    {
     "name": "stdout",
     "output_type": "stream",
     "text": [
      "DistArea_ID\n",
      "Medicine_Type\n",
      "SidEffect_Level\n",
      "Area_Type\n"
     ]
    }
   ],
   "source": [
    "for col in cat_cols:\n",
    "    freqs = cfall[col].value_counts()\n",
    "    k = freqs.index [freqs > 100][:-1]\n",
    "    for cat in k:\n",
    "        name = col+ \"_\" +cat\n",
    "        cfall[name] = (cfall[col]==cat).astype(int)\n",
    "    del cfall[col]\n",
    "    print(col)"
   ]
  },
  {
   "cell_type": "code",
   "execution_count": 14,
   "metadata": {},
   "outputs": [],
   "source": [
    "for col in cfall.columns:\n",
    "    if (col not in [\"Counterfeit_Sales\",\"data\"]) & (cfall[col].isnull().sum()>0) :\n",
    "        cfall.loc[cfall[col].isnull(),col] = cfall.loc[cfall[\"data\"] == \"train\",col].mean()    "
   ]
  },
  {
   "cell_type": "code",
   "execution_count": 15,
   "metadata": {},
   "outputs": [
    {
     "data": {
      "text/plain": [
       "Counterfeit_Weight                     0\n",
       "Active_Since                           0\n",
       "Medicine_MRP                           0\n",
       "Availability_rating                    0\n",
       "Counterfeit_Sales                   1705\n",
       "data                                   0\n",
       "DistArea_ID_Area027                    0\n",
       "DistArea_ID_Area013                    0\n",
       "DistArea_ID_Area046                    0\n",
       "DistArea_ID_Area035                    0\n",
       "DistArea_ID_Area049                    0\n",
       "DistArea_ID_Area045                    0\n",
       "DistArea_ID_Area018                    0\n",
       "DistArea_ID_Area017                    0\n",
       "DistArea_ID_Area010                    0\n",
       "Medicine_Type_Antibiotics              0\n",
       "Medicine_Type_Hreplacements            0\n",
       "Medicine_Type_Antiseptics              0\n",
       "Medicine_Type_OralContraceptives       0\n",
       "Medicine_Type_Antipyretics             0\n",
       "Medicine_Type_Cardiac                  0\n",
       "Medicine_Type_Mstablizers              0\n",
       "Medicine_Type_Tranquilizers            0\n",
       "Medicine_Type_Analgesics               0\n",
       "Medicine_Type_Antimalarial             0\n",
       "Medicine_Type_Antacids                 0\n",
       "Medicine_Type_Statins                  0\n",
       "Medicine_Type_MuscleRelaxants          0\n",
       "Medicine_Type_Antifungal               0\n",
       "SidEffect_Level_mild                   0\n",
       "Area_Type_DownTown                     0\n",
       "Area_Type_MidTownResidential           0\n",
       "Area_Type_CityLimits                   0\n",
       "dtype: int64"
      ]
     },
     "execution_count": 15,
     "metadata": {},
     "output_type": "execute_result"
    }
   ],
   "source": [
    "cfall.isnull().sum()"
   ]
  },
  {
   "cell_type": "markdown",
   "metadata": {},
   "source": [
    "cfall.loc[cfall[\"Counterfeit_Weight\"].isnull(),\"Counterfeit_Weight\"]=cfall.loc[cfall[\"data\"] == \"train\",\"Counterfeit_Weight\"].mean()"
   ]
  },
  {
   "cell_type": "code",
   "execution_count": 16,
   "metadata": {},
   "outputs": [],
   "source": [
    "cftrain = cfall[cfall[\"data\"] == \"train\"]\n",
    "del cftrain[\"data\"]"
   ]
  },
  {
   "cell_type": "code",
   "execution_count": 17,
   "metadata": {},
   "outputs": [
    {
     "name": "stderr",
     "output_type": "stream",
     "text": [
      "D:\\Python\\lib\\site-packages\\ipykernel_launcher.py:2: SettingWithCopyWarning: \n",
      "A value is trying to be set on a copy of a slice from a DataFrame\n",
      "\n",
      "See the caveats in the documentation: http://pandas.pydata.org/pandas-docs/stable/indexing.html#indexing-view-versus-copy\n",
      "  \n"
     ]
    }
   ],
   "source": [
    "cftest = cfall[cfall[\"data\"] == \"test\"]\n",
    "cftest.drop([\"data\",\"Counterfeit_Sales\"],axis= 1 ,inplace = True)"
   ]
  },
  {
   "cell_type": "code",
   "execution_count": 18,
   "metadata": {},
   "outputs": [
    {
     "data": {
      "text/html": [
       "<div>\n",
       "<style scoped>\n",
       "    .dataframe tbody tr th:only-of-type {\n",
       "        vertical-align: middle;\n",
       "    }\n",
       "\n",
       "    .dataframe tbody tr th {\n",
       "        vertical-align: top;\n",
       "    }\n",
       "\n",
       "    .dataframe thead th {\n",
       "        text-align: right;\n",
       "    }\n",
       "</style>\n",
       "<table border=\"1\" class=\"dataframe\">\n",
       "  <thead>\n",
       "    <tr style=\"text-align: right;\">\n",
       "      <th></th>\n",
       "      <th>Counterfeit_Weight</th>\n",
       "      <th>Active_Since</th>\n",
       "      <th>Medicine_MRP</th>\n",
       "      <th>Availability_rating</th>\n",
       "      <th>DistArea_ID_Area027</th>\n",
       "      <th>DistArea_ID_Area013</th>\n",
       "      <th>DistArea_ID_Area046</th>\n",
       "      <th>DistArea_ID_Area035</th>\n",
       "      <th>DistArea_ID_Area049</th>\n",
       "      <th>DistArea_ID_Area045</th>\n",
       "      <th>...</th>\n",
       "      <th>Medicine_Type_Analgesics</th>\n",
       "      <th>Medicine_Type_Antimalarial</th>\n",
       "      <th>Medicine_Type_Antacids</th>\n",
       "      <th>Medicine_Type_Statins</th>\n",
       "      <th>Medicine_Type_MuscleRelaxants</th>\n",
       "      <th>Medicine_Type_Antifungal</th>\n",
       "      <th>SidEffect_Level_mild</th>\n",
       "      <th>Area_Type_DownTown</th>\n",
       "      <th>Area_Type_MidTownResidential</th>\n",
       "      <th>Area_Type_CityLimits</th>\n",
       "    </tr>\n",
       "  </thead>\n",
       "  <tbody>\n",
       "    <tr>\n",
       "      <th>0</th>\n",
       "      <td>14.115057</td>\n",
       "      <td>1983</td>\n",
       "      <td>85.5328</td>\n",
       "      <td>0.112747</td>\n",
       "      <td>1</td>\n",
       "      <td>0</td>\n",
       "      <td>0</td>\n",
       "      <td>0</td>\n",
       "      <td>0</td>\n",
       "      <td>0</td>\n",
       "      <td>...</td>\n",
       "      <td>0</td>\n",
       "      <td>0</td>\n",
       "      <td>0</td>\n",
       "      <td>0</td>\n",
       "      <td>0</td>\n",
       "      <td>0</td>\n",
       "      <td>1</td>\n",
       "      <td>0</td>\n",
       "      <td>0</td>\n",
       "      <td>1</td>\n",
       "    </tr>\n",
       "    <tr>\n",
       "      <th>1</th>\n",
       "      <td>13.450000</td>\n",
       "      <td>2000</td>\n",
       "      <td>257.1460</td>\n",
       "      <td>0.144446</td>\n",
       "      <td>0</td>\n",
       "      <td>0</td>\n",
       "      <td>0</td>\n",
       "      <td>0</td>\n",
       "      <td>0</td>\n",
       "      <td>1</td>\n",
       "      <td>...</td>\n",
       "      <td>0</td>\n",
       "      <td>0</td>\n",
       "      <td>0</td>\n",
       "      <td>0</td>\n",
       "      <td>0</td>\n",
       "      <td>0</td>\n",
       "      <td>1</td>\n",
       "      <td>1</td>\n",
       "      <td>0</td>\n",
       "      <td>0</td>\n",
       "    </tr>\n",
       "    <tr>\n",
       "      <th>2</th>\n",
       "      <td>7.100000</td>\n",
       "      <td>2000</td>\n",
       "      <td>98.1172</td>\n",
       "      <td>0.144221</td>\n",
       "      <td>0</td>\n",
       "      <td>0</td>\n",
       "      <td>0</td>\n",
       "      <td>0</td>\n",
       "      <td>0</td>\n",
       "      <td>1</td>\n",
       "      <td>...</td>\n",
       "      <td>0</td>\n",
       "      <td>0</td>\n",
       "      <td>0</td>\n",
       "      <td>0</td>\n",
       "      <td>0</td>\n",
       "      <td>0</td>\n",
       "      <td>1</td>\n",
       "      <td>1</td>\n",
       "      <td>0</td>\n",
       "      <td>0</td>\n",
       "    </tr>\n",
       "    <tr>\n",
       "      <th>3</th>\n",
       "      <td>18.300000</td>\n",
       "      <td>1996</td>\n",
       "      <td>135.3730</td>\n",
       "      <td>0.100388</td>\n",
       "      <td>0</td>\n",
       "      <td>0</td>\n",
       "      <td>0</td>\n",
       "      <td>0</td>\n",
       "      <td>0</td>\n",
       "      <td>0</td>\n",
       "      <td>...</td>\n",
       "      <td>0</td>\n",
       "      <td>0</td>\n",
       "      <td>0</td>\n",
       "      <td>0</td>\n",
       "      <td>0</td>\n",
       "      <td>0</td>\n",
       "      <td>1</td>\n",
       "      <td>0</td>\n",
       "      <td>1</td>\n",
       "      <td>0</td>\n",
       "    </tr>\n",
       "    <tr>\n",
       "      <th>4</th>\n",
       "      <td>14.115057</td>\n",
       "      <td>1983</td>\n",
       "      <td>112.8016</td>\n",
       "      <td>0.022585</td>\n",
       "      <td>0</td>\n",
       "      <td>0</td>\n",
       "      <td>0</td>\n",
       "      <td>0</td>\n",
       "      <td>0</td>\n",
       "      <td>0</td>\n",
       "      <td>...</td>\n",
       "      <td>0</td>\n",
       "      <td>0</td>\n",
       "      <td>0</td>\n",
       "      <td>0</td>\n",
       "      <td>0</td>\n",
       "      <td>0</td>\n",
       "      <td>1</td>\n",
       "      <td>0</td>\n",
       "      <td>1</td>\n",
       "      <td>0</td>\n",
       "    </tr>\n",
       "  </tbody>\n",
       "</table>\n",
       "<p>5 rows × 31 columns</p>\n",
       "</div>"
      ],
      "text/plain": [
       "   Counterfeit_Weight  Active_Since  Medicine_MRP  Availability_rating  \\\n",
       "0           14.115057          1983       85.5328             0.112747   \n",
       "1           13.450000          2000      257.1460             0.144446   \n",
       "2            7.100000          2000       98.1172             0.144221   \n",
       "3           18.300000          1996      135.3730             0.100388   \n",
       "4           14.115057          1983      112.8016             0.022585   \n",
       "\n",
       "   DistArea_ID_Area027  DistArea_ID_Area013  DistArea_ID_Area046  \\\n",
       "0                    1                    0                    0   \n",
       "1                    0                    0                    0   \n",
       "2                    0                    0                    0   \n",
       "3                    0                    0                    0   \n",
       "4                    0                    0                    0   \n",
       "\n",
       "   DistArea_ID_Area035  DistArea_ID_Area049  DistArea_ID_Area045  \\\n",
       "0                    0                    0                    0   \n",
       "1                    0                    0                    1   \n",
       "2                    0                    0                    1   \n",
       "3                    0                    0                    0   \n",
       "4                    0                    0                    0   \n",
       "\n",
       "           ...           Medicine_Type_Analgesics  Medicine_Type_Antimalarial  \\\n",
       "0          ...                                  0                           0   \n",
       "1          ...                                  0                           0   \n",
       "2          ...                                  0                           0   \n",
       "3          ...                                  0                           0   \n",
       "4          ...                                  0                           0   \n",
       "\n",
       "   Medicine_Type_Antacids  Medicine_Type_Statins  \\\n",
       "0                       0                      0   \n",
       "1                       0                      0   \n",
       "2                       0                      0   \n",
       "3                       0                      0   \n",
       "4                       0                      0   \n",
       "\n",
       "   Medicine_Type_MuscleRelaxants  Medicine_Type_Antifungal  \\\n",
       "0                              0                         0   \n",
       "1                              0                         0   \n",
       "2                              0                         0   \n",
       "3                              0                         0   \n",
       "4                              0                         0   \n",
       "\n",
       "   SidEffect_Level_mild  Area_Type_DownTown  Area_Type_MidTownResidential  \\\n",
       "0                     1                   0                             0   \n",
       "1                     1                   1                             0   \n",
       "2                     1                   1                             0   \n",
       "3                     1                   0                             1   \n",
       "4                     1                   0                             1   \n",
       "\n",
       "   Area_Type_CityLimits  \n",
       "0                     1  \n",
       "1                     0  \n",
       "2                     0  \n",
       "3                     0  \n",
       "4                     0  \n",
       "\n",
       "[5 rows x 31 columns]"
      ]
     },
     "execution_count": 18,
     "metadata": {},
     "output_type": "execute_result"
    }
   ],
   "source": [
    "cftest.head()"
   ]
  },
  {
   "cell_type": "code",
   "execution_count": 19,
   "metadata": {},
   "outputs": [
    {
     "data": {
      "text/html": [
       "<div>\n",
       "<style scoped>\n",
       "    .dataframe tbody tr th:only-of-type {\n",
       "        vertical-align: middle;\n",
       "    }\n",
       "\n",
       "    .dataframe tbody tr th {\n",
       "        vertical-align: top;\n",
       "    }\n",
       "\n",
       "    .dataframe thead th {\n",
       "        text-align: right;\n",
       "    }\n",
       "</style>\n",
       "<table border=\"1\" class=\"dataframe\">\n",
       "  <thead>\n",
       "    <tr style=\"text-align: right;\">\n",
       "      <th></th>\n",
       "      <th>Counterfeit_Weight</th>\n",
       "      <th>Active_Since</th>\n",
       "      <th>Medicine_MRP</th>\n",
       "      <th>Availability_rating</th>\n",
       "      <th>Counterfeit_Sales</th>\n",
       "      <th>DistArea_ID_Area027</th>\n",
       "      <th>DistArea_ID_Area013</th>\n",
       "      <th>DistArea_ID_Area046</th>\n",
       "      <th>DistArea_ID_Area035</th>\n",
       "      <th>DistArea_ID_Area049</th>\n",
       "      <th>...</th>\n",
       "      <th>Medicine_Type_Analgesics</th>\n",
       "      <th>Medicine_Type_Antimalarial</th>\n",
       "      <th>Medicine_Type_Antacids</th>\n",
       "      <th>Medicine_Type_Statins</th>\n",
       "      <th>Medicine_Type_MuscleRelaxants</th>\n",
       "      <th>Medicine_Type_Antifungal</th>\n",
       "      <th>SidEffect_Level_mild</th>\n",
       "      <th>Area_Type_DownTown</th>\n",
       "      <th>Area_Type_MidTownResidential</th>\n",
       "      <th>Area_Type_CityLimits</th>\n",
       "    </tr>\n",
       "  </thead>\n",
       "  <tbody>\n",
       "    <tr>\n",
       "      <th>0</th>\n",
       "      <td>13.100000</td>\n",
       "      <td>1995</td>\n",
       "      <td>160.2366</td>\n",
       "      <td>0.070422</td>\n",
       "      <td>1775.5026</td>\n",
       "      <td>0</td>\n",
       "      <td>0</td>\n",
       "      <td>1</td>\n",
       "      <td>0</td>\n",
       "      <td>0</td>\n",
       "      <td>...</td>\n",
       "      <td>0</td>\n",
       "      <td>1</td>\n",
       "      <td>0</td>\n",
       "      <td>0</td>\n",
       "      <td>0</td>\n",
       "      <td>0</td>\n",
       "      <td>0</td>\n",
       "      <td>1</td>\n",
       "      <td>0</td>\n",
       "      <td>0</td>\n",
       "    </tr>\n",
       "    <tr>\n",
       "      <th>1</th>\n",
       "      <td>14.115057</td>\n",
       "      <td>1983</td>\n",
       "      <td>110.4384</td>\n",
       "      <td>0.013000</td>\n",
       "      <td>3069.1520</td>\n",
       "      <td>1</td>\n",
       "      <td>0</td>\n",
       "      <td>0</td>\n",
       "      <td>0</td>\n",
       "      <td>0</td>\n",
       "      <td>...</td>\n",
       "      <td>0</td>\n",
       "      <td>0</td>\n",
       "      <td>0</td>\n",
       "      <td>0</td>\n",
       "      <td>0</td>\n",
       "      <td>0</td>\n",
       "      <td>1</td>\n",
       "      <td>0</td>\n",
       "      <td>0</td>\n",
       "      <td>1</td>\n",
       "    </tr>\n",
       "    <tr>\n",
       "      <th>2</th>\n",
       "      <td>9.025000</td>\n",
       "      <td>1995</td>\n",
       "      <td>259.4092</td>\n",
       "      <td>0.060783</td>\n",
       "      <td>2603.0920</td>\n",
       "      <td>0</td>\n",
       "      <td>0</td>\n",
       "      <td>1</td>\n",
       "      <td>0</td>\n",
       "      <td>0</td>\n",
       "      <td>...</td>\n",
       "      <td>0</td>\n",
       "      <td>0</td>\n",
       "      <td>0</td>\n",
       "      <td>0</td>\n",
       "      <td>0</td>\n",
       "      <td>0</td>\n",
       "      <td>1</td>\n",
       "      <td>1</td>\n",
       "      <td>0</td>\n",
       "      <td>0</td>\n",
       "    </tr>\n",
       "    <tr>\n",
       "      <th>3</th>\n",
       "      <td>11.800000</td>\n",
       "      <td>1995</td>\n",
       "      <td>99.9830</td>\n",
       "      <td>0.065555</td>\n",
       "      <td>1101.7130</td>\n",
       "      <td>0</td>\n",
       "      <td>0</td>\n",
       "      <td>1</td>\n",
       "      <td>0</td>\n",
       "      <td>0</td>\n",
       "      <td>...</td>\n",
       "      <td>0</td>\n",
       "      <td>0</td>\n",
       "      <td>0</td>\n",
       "      <td>0</td>\n",
       "      <td>0</td>\n",
       "      <td>0</td>\n",
       "      <td>1</td>\n",
       "      <td>1</td>\n",
       "      <td>0</td>\n",
       "      <td>0</td>\n",
       "    </tr>\n",
       "    <tr>\n",
       "      <th>4</th>\n",
       "      <td>14.115057</td>\n",
       "      <td>1983</td>\n",
       "      <td>56.4402</td>\n",
       "      <td>0.248859</td>\n",
       "      <td>158.9402</td>\n",
       "      <td>0</td>\n",
       "      <td>0</td>\n",
       "      <td>0</td>\n",
       "      <td>0</td>\n",
       "      <td>0</td>\n",
       "      <td>...</td>\n",
       "      <td>0</td>\n",
       "      <td>0</td>\n",
       "      <td>0</td>\n",
       "      <td>0</td>\n",
       "      <td>0</td>\n",
       "      <td>0</td>\n",
       "      <td>0</td>\n",
       "      <td>0</td>\n",
       "      <td>1</td>\n",
       "      <td>0</td>\n",
       "    </tr>\n",
       "  </tbody>\n",
       "</table>\n",
       "<p>5 rows × 32 columns</p>\n",
       "</div>"
      ],
      "text/plain": [
       "   Counterfeit_Weight  Active_Since  Medicine_MRP  Availability_rating  \\\n",
       "0           13.100000          1995      160.2366             0.070422   \n",
       "1           14.115057          1983      110.4384             0.013000   \n",
       "2            9.025000          1995      259.4092             0.060783   \n",
       "3           11.800000          1995       99.9830             0.065555   \n",
       "4           14.115057          1983       56.4402             0.248859   \n",
       "\n",
       "   Counterfeit_Sales  DistArea_ID_Area027  DistArea_ID_Area013  \\\n",
       "0          1775.5026                    0                    0   \n",
       "1          3069.1520                    1                    0   \n",
       "2          2603.0920                    0                    0   \n",
       "3          1101.7130                    0                    0   \n",
       "4           158.9402                    0                    0   \n",
       "\n",
       "   DistArea_ID_Area046  DistArea_ID_Area035  DistArea_ID_Area049  \\\n",
       "0                    1                    0                    0   \n",
       "1                    0                    0                    0   \n",
       "2                    1                    0                    0   \n",
       "3                    1                    0                    0   \n",
       "4                    0                    0                    0   \n",
       "\n",
       "           ...           Medicine_Type_Analgesics  Medicine_Type_Antimalarial  \\\n",
       "0          ...                                  0                           1   \n",
       "1          ...                                  0                           0   \n",
       "2          ...                                  0                           0   \n",
       "3          ...                                  0                           0   \n",
       "4          ...                                  0                           0   \n",
       "\n",
       "   Medicine_Type_Antacids  Medicine_Type_Statins  \\\n",
       "0                       0                      0   \n",
       "1                       0                      0   \n",
       "2                       0                      0   \n",
       "3                       0                      0   \n",
       "4                       0                      0   \n",
       "\n",
       "   Medicine_Type_MuscleRelaxants  Medicine_Type_Antifungal  \\\n",
       "0                              0                         0   \n",
       "1                              0                         0   \n",
       "2                              0                         0   \n",
       "3                              0                         0   \n",
       "4                              0                         0   \n",
       "\n",
       "   SidEffect_Level_mild  Area_Type_DownTown  Area_Type_MidTownResidential  \\\n",
       "0                     0                   1                             0   \n",
       "1                     1                   0                             0   \n",
       "2                     1                   1                             0   \n",
       "3                     1                   1                             0   \n",
       "4                     0                   0                             1   \n",
       "\n",
       "   Area_Type_CityLimits  \n",
       "0                     0  \n",
       "1                     1  \n",
       "2                     0  \n",
       "3                     0  \n",
       "4                     0  \n",
       "\n",
       "[5 rows x 32 columns]"
      ]
     },
     "execution_count": 19,
     "metadata": {},
     "output_type": "execute_result"
    }
   ],
   "source": [
    "cftrain.head()"
   ]
  },
  {
   "cell_type": "code",
   "execution_count": null,
   "metadata": {},
   "outputs": [],
   "source": []
  },
  {
   "cell_type": "code",
   "execution_count": 20,
   "metadata": {},
   "outputs": [],
   "source": [
    "x_train = cftrain.drop(\"Counterfeit_Sales\",axis=1)\n",
    "y_train = cftrain[\"Counterfeit_Sales\"]"
   ]
  },
  {
   "cell_type": "code",
   "execution_count": 21,
   "metadata": {},
   "outputs": [
    {
     "data": {
      "text/plain": [
       "Counterfeit_Weight                  float64\n",
       "Active_Since                          int64\n",
       "Medicine_MRP                        float64\n",
       "Availability_rating                 float64\n",
       "DistArea_ID_Area027                   int32\n",
       "DistArea_ID_Area013                   int32\n",
       "DistArea_ID_Area046                   int32\n",
       "DistArea_ID_Area035                   int32\n",
       "DistArea_ID_Area049                   int32\n",
       "DistArea_ID_Area045                   int32\n",
       "DistArea_ID_Area018                   int32\n",
       "DistArea_ID_Area017                   int32\n",
       "DistArea_ID_Area010                   int32\n",
       "Medicine_Type_Antibiotics             int32\n",
       "Medicine_Type_Hreplacements           int32\n",
       "Medicine_Type_Antiseptics             int32\n",
       "Medicine_Type_OralContraceptives      int32\n",
       "Medicine_Type_Antipyretics            int32\n",
       "Medicine_Type_Cardiac                 int32\n",
       "Medicine_Type_Mstablizers             int32\n",
       "Medicine_Type_Tranquilizers           int32\n",
       "Medicine_Type_Analgesics              int32\n",
       "Medicine_Type_Antimalarial            int32\n",
       "Medicine_Type_Antacids                int32\n",
       "Medicine_Type_Statins                 int32\n",
       "Medicine_Type_MuscleRelaxants         int32\n",
       "Medicine_Type_Antifungal              int32\n",
       "SidEffect_Level_mild                  int32\n",
       "Area_Type_DownTown                    int32\n",
       "Area_Type_MidTownResidential          int32\n",
       "Area_Type_CityLimits                  int32\n",
       "dtype: object"
      ]
     },
     "execution_count": 21,
     "metadata": {},
     "output_type": "execute_result"
    }
   ],
   "source": [
    "x_train.dtypes"
   ]
  },
  {
   "cell_type": "code",
   "execution_count": 22,
   "metadata": {},
   "outputs": [],
   "source": [
    "from xgboost.sklearn import XGBRegressor"
   ]
  },
  {
   "cell_type": "code",
   "execution_count": 40,
   "metadata": {},
   "outputs": [],
   "source": [
    "params = {\n",
    "    \"n_estimators\" : [50,100,200,250]\n",
    "}"
   ]
  },
  {
   "cell_type": "code",
   "execution_count": 41,
   "metadata": {},
   "outputs": [],
   "source": [
    "xgb1 = XGBRegressor(subsample=0.8, colsample_bytree=0.8, colsample_bylevel=0.8,learning_rate=0.1)"
   ]
  },
  {
   "cell_type": "code",
   "execution_count": 25,
   "metadata": {},
   "outputs": [],
   "source": [
    "from sklearn.model_selection import RandomizedSearchCV"
   ]
  },
  {
   "cell_type": "code",
   "execution_count": 42,
   "metadata": {},
   "outputs": [],
   "source": [
    "from sklearn.model_selection import GridSearchCV"
   ]
  },
  {
   "cell_type": "code",
   "execution_count": 43,
   "metadata": {},
   "outputs": [],
   "source": [
    "grid_search = GridSearchCV(xgb1,param_grid = params,verbose=10,n_jobs=-1,cv= 10)"
   ]
  },
  {
   "cell_type": "code",
   "execution_count": 44,
   "metadata": {},
   "outputs": [
    {
     "name": "stdout",
     "output_type": "stream",
     "text": [
      "Fitting 10 folds for each of 4 candidates, totalling 40 fits\n"
     ]
    },
    {
     "name": "stderr",
     "output_type": "stream",
     "text": [
      "[Parallel(n_jobs=-1)]: Done   5 tasks      | elapsed:   11.2s\n",
      "[Parallel(n_jobs=-1)]: Done  10 tasks      | elapsed:   12.1s\n",
      "[Parallel(n_jobs=-1)]: Done  17 tasks      | elapsed:   15.4s\n",
      "[Parallel(n_jobs=-1)]: Done  24 tasks      | elapsed:   20.6s\n",
      "[Parallel(n_jobs=-1)]: Done  33 tasks      | elapsed:   29.4s\n",
      "[Parallel(n_jobs=-1)]: Done  38 out of  40 | elapsed:   34.8s remaining:    1.7s\n",
      "[Parallel(n_jobs=-1)]: Done  40 out of  40 | elapsed:   36.9s finished\n"
     ]
    },
    {
     "name": "stdout",
     "output_type": "stream",
     "text": [
      "[20:52:04] WARNING: C:/Jenkins/workspace/xgboost-win64_release_0.90/src/objective/regression_obj.cu:152: reg:linear is now deprecated in favor of reg:squarederror.\n"
     ]
    },
    {
     "data": {
      "text/plain": [
       "GridSearchCV(cv=10, error_score='raise',\n",
       "       estimator=XGBRegressor(base_score=0.5, booster='gbtree', colsample_bylevel=0.8,\n",
       "       colsample_bynode=1, colsample_bytree=0.8, gamma=0,\n",
       "       importance_type='gain', learning_rate=0.1, max_delta_step=0,\n",
       "       max_depth=3, min_child_weight=1, missing=None, n_estimators=100,\n",
       "       n_jobs=1, nthread=None, objective='reg:linear', random_state=0,\n",
       "       reg_alpha=0, reg_lambda=1, scale_pos_weight=1, seed=None,\n",
       "       silent=None, subsample=0.8, verbosity=1),\n",
       "       fit_params=None, iid=True, n_jobs=-1,\n",
       "       param_grid={'n_estimators': [50, 100, 200, 250]},\n",
       "       pre_dispatch='2*n_jobs', refit=True, return_train_score='warn',\n",
       "       scoring=None, verbose=10)"
      ]
     },
     "execution_count": 44,
     "metadata": {},
     "output_type": "execute_result"
    }
   ],
   "source": [
    "grid_search.fit(x_train,y_train)"
   ]
  },
  {
   "cell_type": "code",
   "execution_count": 46,
   "metadata": {},
   "outputs": [
    {
     "data": {
      "text/plain": [
       "XGBRegressor(base_score=0.5, booster='gbtree', colsample_bylevel=0.8,\n",
       "       colsample_bynode=1, colsample_bytree=0.8, gamma=0,\n",
       "       importance_type='gain', learning_rate=0.1, max_delta_step=0,\n",
       "       max_depth=3, min_child_weight=1, missing=None, n_estimators=50,\n",
       "       n_jobs=1, nthread=None, objective='reg:linear', random_state=0,\n",
       "       reg_alpha=0, reg_lambda=1, scale_pos_weight=1, seed=None,\n",
       "       silent=None, subsample=0.8, verbosity=1)"
      ]
     },
     "execution_count": 46,
     "metadata": {},
     "output_type": "execute_result"
    }
   ],
   "source": [
    "grid_search.best_estimator_"
   ]
  },
  {
   "cell_type": "markdown",
   "metadata": {},
   "source": [
    "XGBRegressor(base_score=0.5, booster='gbtree', colsample_bylevel=0.8,\n",
    "       colsample_bynode=1, colsample_bytree=0.8, gamma=0,\n",
    "       importance_type='gain', learning_rate=0.1, max_delta_step=0,\n",
    "       max_depth=3, min_child_weight=1, missing=None, n_estimators=100,\n",
    "       n_jobs=1, nthread=None, objective='reg:linear', random_state=0,\n",
    "       reg_alpha=0, reg_lambda=1, scale_pos_weight=1, seed=None,\n",
    "       silent=None, subsample=0.8, verbosity=1)"
   ]
  },
  {
   "cell_type": "code",
   "execution_count": 88,
   "metadata": {},
   "outputs": [],
   "source": [
    "def report(results, n_top=3):\n",
    "    for i in range(1,n_top+1):\n",
    "        candidates = np.flatnonzero(results['rank_test_score']==1)\n",
    "        for candidate in candidates:\n",
    "            print(\"Model with rank: {0}\".format(i))\n",
    "            print(\"Mean validation score: {0:.9f} (std: {1:.9f})\".format(\n",
    "            results[\"mean_test_score\"][candidate],\n",
    "            results[\"std_test_score\"][candidate]))\n",
    "            print(\"Parameters: {0}\".format(results['params'][candidate]))\n",
    "        print(\"\")"
   ]
  },
  {
   "cell_type": "code",
   "execution_count": 48,
   "metadata": {},
   "outputs": [
    {
     "name": "stdout",
     "output_type": "stream",
     "text": [
      "Model with rank: 1\n",
      "Mean validation score: 0.60054 (std: 0.03198)\n",
      "Parameters: {'n_estimators': 50}\n",
      "\n",
      "Model with rank: 2\n",
      "Mean validation score: 0.60054 (std: 0.03198)\n",
      "Parameters: {'n_estimators': 50}\n",
      "\n",
      "Model with rank: 3\n",
      "Mean validation score: 0.60054 (std: 0.03198)\n",
      "Parameters: {'n_estimators': 50}\n",
      "\n"
     ]
    }
   ],
   "source": [
    "report(grid_search.cv_results_)"
   ]
  },
  {
   "cell_type": "code",
   "execution_count": 52,
   "metadata": {},
   "outputs": [],
   "source": [
    "params = {\n",
    "    \"gamma\":[0,2,5,8,10], \n",
    "    \"min_child_weight\":[2,5,10],\n",
    "    \"max_depth\":[2,3,4,5]\n",
    "}"
   ]
  },
  {
   "cell_type": "code",
   "execution_count": 64,
   "metadata": {},
   "outputs": [],
   "source": [
    "xgb2 = XGBRegressor(subsample=0.8, colsample_bytree=0.8, colsample_bylevel=0.8,learning_rate=0.1,n_estimators=50,verbose =10)"
   ]
  },
  {
   "cell_type": "code",
   "execution_count": 65,
   "metadata": {},
   "outputs": [],
   "source": [
    "random_search = RandomizedSearchCV(xgb2,param_distributions=params,cv=10,\n",
    "                                  n_jobs=-1,n_iter=30)"
   ]
  },
  {
   "cell_type": "code",
   "execution_count": 66,
   "metadata": {},
   "outputs": [
    {
     "name": "stdout",
     "output_type": "stream",
     "text": [
      "[21:01:19] WARNING: C:/Jenkins/workspace/xgboost-win64_release_0.90/src/objective/regression_obj.cu:152: reg:linear is now deprecated in favor of reg:squarederror.\n"
     ]
    },
    {
     "data": {
      "text/plain": [
       "RandomizedSearchCV(cv=10, error_score='raise',\n",
       "          estimator=XGBRegressor(base_score=0.5, booster='gbtree', colsample_bylevel=0.8,\n",
       "       colsample_bynode=1, colsample_bytree=0.8, gamma=0,\n",
       "       importance_type='gain', learning_rate=0.1, max_delta_step=0,\n",
       "       max_depth=3, min_child_weight=1, missing=None, n_estimators=50,\n",
       "       n_jobs=1, nthread=None, objective='reg:linear', random_state=0,\n",
       "       reg_alpha=0, reg_lambda=1, scale_pos_weight=1, seed=None,\n",
       "       silent=None, subsample=0.8, verbose=10, verbosity=1),\n",
       "          fit_params=None, iid=True, n_iter=30, n_jobs=-1,\n",
       "          param_distributions={'gamma': [0, 2, 5, 8, 10], 'min_child_weight': [2, 5, 10], 'max_depth': [2, 3, 4, 5]},\n",
       "          pre_dispatch='2*n_jobs', random_state=None, refit=True,\n",
       "          return_train_score='warn', scoring=None, verbose=0)"
      ]
     },
     "execution_count": 66,
     "metadata": {},
     "output_type": "execute_result"
    }
   ],
   "source": [
    "random_search.fit(x_train,y_train)"
   ]
  },
  {
   "cell_type": "code",
   "execution_count": 71,
   "metadata": {},
   "outputs": [
    {
     "name": "stdout",
     "output_type": "stream",
     "text": [
      "Model with rank: 1\n",
      "Mean validation score: 0.60117 (std: 0.03125)\n",
      "Parameters: {'min_child_weight': 10, 'max_depth': 3, 'gamma': 2}\n",
      "Model with rank: 1\n",
      "Mean validation score: 0.60117 (std: 0.03125)\n",
      "Parameters: {'min_child_weight': 10, 'max_depth': 3, 'gamma': 0}\n",
      "\n",
      "Model with rank: 2\n",
      "Mean validation score: 0.60117 (std: 0.03125)\n",
      "Parameters: {'min_child_weight': 10, 'max_depth': 3, 'gamma': 2}\n",
      "Model with rank: 2\n",
      "Mean validation score: 0.60117 (std: 0.03125)\n",
      "Parameters: {'min_child_weight': 10, 'max_depth': 3, 'gamma': 0}\n",
      "\n",
      "Model with rank: 3\n",
      "Mean validation score: 0.60117 (std: 0.03125)\n",
      "Parameters: {'min_child_weight': 10, 'max_depth': 3, 'gamma': 2}\n",
      "Model with rank: 3\n",
      "Mean validation score: 0.60117 (std: 0.03125)\n",
      "Parameters: {'min_child_weight': 10, 'max_depth': 3, 'gamma': 0}\n",
      "\n"
     ]
    }
   ],
   "source": [
    "report(random_search.cv_results_)"
   ]
  },
  {
   "cell_type": "code",
   "execution_count": 77,
   "metadata": {},
   "outputs": [],
   "source": [
    "parmas = {\n",
    "    \"min_child_weight\":[8,9,10,11,12]\n",
    "}"
   ]
  },
  {
   "cell_type": "code",
   "execution_count": 78,
   "metadata": {},
   "outputs": [],
   "source": [
    "xgb3 = XGBRegressor(subsample=0.8, colsample_bytree=0.8, colsample_bylevel=0.8,learning_rate=0.1,n_estimators=50,verbose =10,\n",
    "                   max_depth=3, gamma=2)"
   ]
  },
  {
   "cell_type": "code",
   "execution_count": 79,
   "metadata": {},
   "outputs": [],
   "source": [
    "grid_search = GridSearchCV(xgb3, param_grid= params,n_jobs=-1,cv = 10)"
   ]
  },
  {
   "cell_type": "code",
   "execution_count": 80,
   "metadata": {},
   "outputs": [
    {
     "name": "stdout",
     "output_type": "stream",
     "text": [
      "[21:12:12] WARNING: C:/Jenkins/workspace/xgboost-win64_release_0.90/src/objective/regression_obj.cu:152: reg:linear is now deprecated in favor of reg:squarederror.\n"
     ]
    },
    {
     "data": {
      "text/plain": [
       "GridSearchCV(cv=10, error_score='raise',\n",
       "       estimator=XGBRegressor(base_score=0.5, booster='gbtree', colsample_bylevel=0.8,\n",
       "       colsample_bynode=1, colsample_bytree=0.8, gamma=2,\n",
       "       importance_type='gain', learning_rate=0.1, max_delta_step=0,\n",
       "       max_depth=3, min_child_weight=1, missing=None, n_estimators=50,\n",
       "       n_jobs=1, nthread=None, objective='reg:linear', random_state=0,\n",
       "       reg_alpha=0, reg_lambda=1, scale_pos_weight=1, seed=None,\n",
       "       silent=None, subsample=0.8, verbose=10, verbosity=1),\n",
       "       fit_params=None, iid=True, n_jobs=-1,\n",
       "       param_grid={'gamma': [0, 2, 5, 8, 10], 'min_child_weight': [2, 5, 10], 'max_depth': [2, 3, 4, 5]},\n",
       "       pre_dispatch='2*n_jobs', refit=True, return_train_score='warn',\n",
       "       scoring=None, verbose=0)"
      ]
     },
     "execution_count": 80,
     "metadata": {},
     "output_type": "execute_result"
    }
   ],
   "source": [
    "grid_search.fit(x_train,y_train)"
   ]
  },
  {
   "cell_type": "code",
   "execution_count": 82,
   "metadata": {},
   "outputs": [
    {
     "data": {
      "text/plain": [
       "XGBRegressor(base_score=0.5, booster='gbtree', colsample_bylevel=0.8,\n",
       "       colsample_bynode=1, colsample_bytree=0.8, gamma=0,\n",
       "       importance_type='gain', learning_rate=0.1, max_delta_step=0,\n",
       "       max_depth=3, min_child_weight=10, missing=None, n_estimators=50,\n",
       "       n_jobs=1, nthread=None, objective='reg:linear', random_state=0,\n",
       "       reg_alpha=0, reg_lambda=1, scale_pos_weight=1, seed=None,\n",
       "       silent=None, subsample=0.8, verbose=10, verbosity=1)"
      ]
     },
     "execution_count": 82,
     "metadata": {},
     "output_type": "execute_result"
    }
   ],
   "source": [
    "grid_search.best_estimator_"
   ]
  },
  {
   "cell_type": "code",
   "execution_count": 89,
   "metadata": {},
   "outputs": [
    {
     "name": "stdout",
     "output_type": "stream",
     "text": [
      "Model with rank: 1\n",
      "Mean validation score: 0.601171504 (std: 0.031248954)\n",
      "Parameters: {'gamma': 0, 'max_depth': 3, 'min_child_weight': 10}\n",
      "Model with rank: 1\n",
      "Mean validation score: 0.601171504 (std: 0.031248954)\n",
      "Parameters: {'gamma': 2, 'max_depth': 3, 'min_child_weight': 10}\n",
      "Model with rank: 1\n",
      "Mean validation score: 0.601171504 (std: 0.031248954)\n",
      "Parameters: {'gamma': 5, 'max_depth': 3, 'min_child_weight': 10}\n",
      "Model with rank: 1\n",
      "Mean validation score: 0.601171504 (std: 0.031248954)\n",
      "Parameters: {'gamma': 8, 'max_depth': 3, 'min_child_weight': 10}\n",
      "Model with rank: 1\n",
      "Mean validation score: 0.601171504 (std: 0.031248954)\n",
      "Parameters: {'gamma': 10, 'max_depth': 3, 'min_child_weight': 10}\n",
      "\n",
      "Model with rank: 2\n",
      "Mean validation score: 0.601171504 (std: 0.031248954)\n",
      "Parameters: {'gamma': 0, 'max_depth': 3, 'min_child_weight': 10}\n",
      "Model with rank: 2\n",
      "Mean validation score: 0.601171504 (std: 0.031248954)\n",
      "Parameters: {'gamma': 2, 'max_depth': 3, 'min_child_weight': 10}\n",
      "Model with rank: 2\n",
      "Mean validation score: 0.601171504 (std: 0.031248954)\n",
      "Parameters: {'gamma': 5, 'max_depth': 3, 'min_child_weight': 10}\n",
      "Model with rank: 2\n",
      "Mean validation score: 0.601171504 (std: 0.031248954)\n",
      "Parameters: {'gamma': 8, 'max_depth': 3, 'min_child_weight': 10}\n",
      "Model with rank: 2\n",
      "Mean validation score: 0.601171504 (std: 0.031248954)\n",
      "Parameters: {'gamma': 10, 'max_depth': 3, 'min_child_weight': 10}\n",
      "\n",
      "Model with rank: 3\n",
      "Mean validation score: 0.601171504 (std: 0.031248954)\n",
      "Parameters: {'gamma': 0, 'max_depth': 3, 'min_child_weight': 10}\n",
      "Model with rank: 3\n",
      "Mean validation score: 0.601171504 (std: 0.031248954)\n",
      "Parameters: {'gamma': 2, 'max_depth': 3, 'min_child_weight': 10}\n",
      "Model with rank: 3\n",
      "Mean validation score: 0.601171504 (std: 0.031248954)\n",
      "Parameters: {'gamma': 5, 'max_depth': 3, 'min_child_weight': 10}\n",
      "Model with rank: 3\n",
      "Mean validation score: 0.601171504 (std: 0.031248954)\n",
      "Parameters: {'gamma': 8, 'max_depth': 3, 'min_child_weight': 10}\n",
      "Model with rank: 3\n",
      "Mean validation score: 0.601171504 (std: 0.031248954)\n",
      "Parameters: {'gamma': 10, 'max_depth': 3, 'min_child_weight': 10}\n",
      "\n"
     ]
    }
   ],
   "source": [
    "report(grid_search.cv_results_)"
   ]
  },
  {
   "cell_type": "code",
   "execution_count": 91,
   "metadata": {},
   "outputs": [],
   "source": [
    "params = {\n",
    "    \"subsample\": [i/10 for i in range(5 , 11)], \n",
    "    \"colsample_bytree\": [i/10 for i in range(5 , 11)],\n",
    "    \"colsample_bylevel\" :[i/10 for i in range(5 , 11)]\n",
    "}"
   ]
  },
  {
   "cell_type": "code",
   "execution_count": 92,
   "metadata": {},
   "outputs": [],
   "source": [
    "xgb4 = XGBRegressor(learning_rate=0.1,n_estimators=50,verbose =10,\n",
    "                   max_depth=3, gamma=0,min_child_weight = 10)"
   ]
  },
  {
   "cell_type": "code",
   "execution_count": 93,
   "metadata": {},
   "outputs": [],
   "source": [
    "from sklearn.model_selection import RandomizedSearchCV"
   ]
  },
  {
   "cell_type": "code",
   "execution_count": 96,
   "metadata": {},
   "outputs": [],
   "source": [
    "random_search  = RandomizedSearchCV(xgb4,param_distributions=params,verbose=10,n_jobs=-1,cv = 5,n_iter=50)"
   ]
  },
  {
   "cell_type": "code",
   "execution_count": 98,
   "metadata": {},
   "outputs": [
    {
     "name": "stdout",
     "output_type": "stream",
     "text": [
      "Fitting 5 folds for each of 50 candidates, totalling 250 fits\n"
     ]
    },
    {
     "name": "stderr",
     "output_type": "stream",
     "text": [
      "[Parallel(n_jobs=-1)]: Done   5 tasks      | elapsed:    4.6s\n",
      "[Parallel(n_jobs=-1)]: Done  10 tasks      | elapsed:    5.3s\n",
      "[Parallel(n_jobs=-1)]: Done  17 tasks      | elapsed:    6.7s\n",
      "[Parallel(n_jobs=-1)]: Done  24 tasks      | elapsed:    8.4s\n",
      "[Parallel(n_jobs=-1)]: Done  33 tasks      | elapsed:   10.0s\n",
      "[Parallel(n_jobs=-1)]: Done  42 tasks      | elapsed:   11.5s\n",
      "[Parallel(n_jobs=-1)]: Done  53 tasks      | elapsed:   14.0s\n",
      "[Parallel(n_jobs=-1)]: Done  64 tasks      | elapsed:   17.4s\n",
      "[Parallel(n_jobs=-1)]: Done  77 tasks      | elapsed:   20.8s\n",
      "[Parallel(n_jobs=-1)]: Done  90 tasks      | elapsed:   23.5s\n",
      "[Parallel(n_jobs=-1)]: Done 105 tasks      | elapsed:   26.5s\n",
      "[Parallel(n_jobs=-1)]: Done 120 tasks      | elapsed:   29.6s\n",
      "[Parallel(n_jobs=-1)]: Done 137 tasks      | elapsed:   33.8s\n",
      "[Parallel(n_jobs=-1)]: Done 154 tasks      | elapsed:   37.0s\n",
      "[Parallel(n_jobs=-1)]: Done 173 tasks      | elapsed:   41.2s\n",
      "[Parallel(n_jobs=-1)]: Done 192 tasks      | elapsed:   44.9s\n",
      "[Parallel(n_jobs=-1)]: Done 213 tasks      | elapsed:   49.1s\n",
      "[Parallel(n_jobs=-1)]: Done 234 tasks      | elapsed:   53.4s\n",
      "[Parallel(n_jobs=-1)]: Done 250 out of 250 | elapsed:   56.5s finished\n"
     ]
    },
    {
     "name": "stdout",
     "output_type": "stream",
     "text": [
      "[21:20:43] WARNING: C:/Jenkins/workspace/xgboost-win64_release_0.90/src/objective/regression_obj.cu:152: reg:linear is now deprecated in favor of reg:squarederror.\n"
     ]
    },
    {
     "data": {
      "text/plain": [
       "RandomizedSearchCV(cv=5, error_score='raise',\n",
       "          estimator=XGBRegressor(base_score=0.5, booster='gbtree', colsample_bylevel=1,\n",
       "       colsample_bynode=1, colsample_bytree=1, gamma=0,\n",
       "       importance_type='gain', learning_rate=0.1, max_delta_step=0,\n",
       "       max_depth=3, min_child_weight=10, missing=None, n_estimators=50,\n",
       "       n_jobs=1, nthread=None, objective='reg:linear', random_state=0,\n",
       "       reg_alpha=0, reg_lambda=1, scale_pos_weight=1, seed=None,\n",
       "       silent=None, subsample=1, verbose=10, verbosity=1),\n",
       "          fit_params=None, iid=True, n_iter=50, n_jobs=-1,\n",
       "          param_distributions={'subsample': [0.5, 0.6, 0.7, 0.8, 0.9, 1.0], 'colsample_bytree': [0.5, 0.6, 0.7, 0.8, 0.9, 1.0], 'colsample_bylevel': [0.5, 0.6, 0.7, 0.8, 0.9, 1.0]},\n",
       "          pre_dispatch='2*n_jobs', random_state=None, refit=True,\n",
       "          return_train_score='warn', scoring=None, verbose=10)"
      ]
     },
     "execution_count": 98,
     "metadata": {},
     "output_type": "execute_result"
    }
   ],
   "source": [
    "random_search.fit(x_train,y_train)"
   ]
  },
  {
   "cell_type": "code",
   "execution_count": 99,
   "metadata": {},
   "outputs": [
    {
     "data": {
      "text/plain": [
       "XGBRegressor(base_score=0.5, booster='gbtree', colsample_bylevel=0.9,\n",
       "       colsample_bynode=1, colsample_bytree=0.7, gamma=0,\n",
       "       importance_type='gain', learning_rate=0.1, max_delta_step=0,\n",
       "       max_depth=3, min_child_weight=10, missing=None, n_estimators=50,\n",
       "       n_jobs=1, nthread=None, objective='reg:linear', random_state=0,\n",
       "       reg_alpha=0, reg_lambda=1, scale_pos_weight=1, seed=None,\n",
       "       silent=None, subsample=0.9, verbose=10, verbosity=1)"
      ]
     },
     "execution_count": 99,
     "metadata": {},
     "output_type": "execute_result"
    }
   ],
   "source": [
    "random_search.best_estimator_"
   ]
  },
  {
   "cell_type": "code",
   "execution_count": 100,
   "metadata": {},
   "outputs": [
    {
     "name": "stdout",
     "output_type": "stream",
     "text": [
      "Model with rank: 1\n",
      "Mean validation score: 0.602876914 (std: 0.015332361)\n",
      "Parameters: {'subsample': 0.9, 'colsample_bytree': 0.7, 'colsample_bylevel': 0.9}\n",
      "\n",
      "Model with rank: 2\n",
      "Mean validation score: 0.602876914 (std: 0.015332361)\n",
      "Parameters: {'subsample': 0.9, 'colsample_bytree': 0.7, 'colsample_bylevel': 0.9}\n",
      "\n",
      "Model with rank: 3\n",
      "Mean validation score: 0.602876914 (std: 0.015332361)\n",
      "Parameters: {'subsample': 0.9, 'colsample_bytree': 0.7, 'colsample_bylevel': 0.9}\n",
      "\n"
     ]
    }
   ],
   "source": [
    "report(random_search.cv_results_)"
   ]
  },
  {
   "cell_type": "code",
   "execution_count": 101,
   "metadata": {},
   "outputs": [],
   "source": [
    "params = {\n",
    "    \"reg_alpha\":[i/10 for i in range(5,50)], \n",
    "    \"reg_lambda\":[i/10 for i in range(5,50)] \n",
    "}"
   ]
  },
  {
   "cell_type": "code",
   "execution_count": 102,
   "metadata": {},
   "outputs": [],
   "source": [
    "xgb5 = XGBRegressor(learning_rate=0.1,n_estimators=50,verbose =10,\n",
    "                   max_depth=3, gamma=0,min_child_weight = 10,\n",
    "                   subsample =  0.9, colsample_bytree= 0.7, colsample_bylevel= 0.9)"
   ]
  },
  {
   "cell_type": "code",
   "execution_count": 112,
   "metadata": {},
   "outputs": [],
   "source": [
    "random_search = RandomizedSearchCV(xgb5,param_distributions=params,verbose=10,n_jobs=-1,n_iter=100,cv = 5)"
   ]
  },
  {
   "cell_type": "code",
   "execution_count": 113,
   "metadata": {},
   "outputs": [
    {
     "name": "stdout",
     "output_type": "stream",
     "text": [
      "Fitting 5 folds for each of 100 candidates, totalling 500 fits\n"
     ]
    },
    {
     "name": "stderr",
     "output_type": "stream",
     "text": [
      "[Parallel(n_jobs=-1)]: Done   5 tasks      | elapsed:    8.1s\n",
      "[Parallel(n_jobs=-1)]: Done  10 tasks      | elapsed:    8.9s\n",
      "[Parallel(n_jobs=-1)]: Done  17 tasks      | elapsed:   10.5s\n",
      "[Parallel(n_jobs=-1)]: Done  24 tasks      | elapsed:   12.2s\n",
      "[Parallel(n_jobs=-1)]: Done  33 tasks      | elapsed:   14.0s\n",
      "[Parallel(n_jobs=-1)]: Done  42 tasks      | elapsed:   15.8s\n",
      "[Parallel(n_jobs=-1)]: Done  53 tasks      | elapsed:   18.1s\n",
      "[Parallel(n_jobs=-1)]: Done  64 tasks      | elapsed:   20.3s\n",
      "[Parallel(n_jobs=-1)]: Done  77 tasks      | elapsed:   22.9s\n",
      "[Parallel(n_jobs=-1)]: Done  90 tasks      | elapsed:   25.6s\n",
      "[Parallel(n_jobs=-1)]: Done 105 tasks      | elapsed:   29.0s\n",
      "[Parallel(n_jobs=-1)]: Done 120 tasks      | elapsed:   32.2s\n",
      "[Parallel(n_jobs=-1)]: Done 137 tasks      | elapsed:   35.2s\n",
      "[Parallel(n_jobs=-1)]: Done 154 tasks      | elapsed:   38.4s\n",
      "[Parallel(n_jobs=-1)]: Done 173 tasks      | elapsed:   42.6s\n",
      "[Parallel(n_jobs=-1)]: Done 192 tasks      | elapsed:   46.3s\n",
      "[Parallel(n_jobs=-1)]: Done 213 tasks      | elapsed:   50.3s\n",
      "[Parallel(n_jobs=-1)]: Done 234 tasks      | elapsed:   54.5s\n",
      "[Parallel(n_jobs=-1)]: Done 257 tasks      | elapsed:  1.0min\n",
      "[Parallel(n_jobs=-1)]: Done 280 tasks      | elapsed:  1.1min\n",
      "[Parallel(n_jobs=-1)]: Done 305 tasks      | elapsed:  1.2min\n",
      "[Parallel(n_jobs=-1)]: Done 330 tasks      | elapsed:  1.3min\n",
      "[Parallel(n_jobs=-1)]: Done 357 tasks      | elapsed:  1.4min\n",
      "[Parallel(n_jobs=-1)]: Done 384 tasks      | elapsed:  1.5min\n",
      "[Parallel(n_jobs=-1)]: Done 413 tasks      | elapsed:  1.6min\n",
      "[Parallel(n_jobs=-1)]: Done 442 tasks      | elapsed:  1.7min\n",
      "[Parallel(n_jobs=-1)]: Done 473 tasks      | elapsed:  1.8min\n",
      "[Parallel(n_jobs=-1)]: Done 500 out of 500 | elapsed:  1.9min finished\n"
     ]
    },
    {
     "name": "stdout",
     "output_type": "stream",
     "text": [
      "[21:36:29] WARNING: C:/Jenkins/workspace/xgboost-win64_release_0.90/src/objective/regression_obj.cu:152: reg:linear is now deprecated in favor of reg:squarederror.\n"
     ]
    },
    {
     "data": {
      "text/plain": [
       "RandomizedSearchCV(cv=5, error_score='raise',\n",
       "          estimator=XGBRegressor(base_score=0.5, booster='gbtree', colsample_bylevel=0.9,\n",
       "       colsample_bynode=1, colsample_bytree=0.7, gamma=0,\n",
       "       importance_type='gain', learning_rate=0.1, max_delta_step=0,\n",
       "       max_depth=3, min_child_weight=10, missing=None, n_estimators=50,\n",
       "       n_jobs=1, nthread=None, objective='reg:linear', random_state=0,\n",
       "       reg_alpha=0, reg_lambda=1, scale_pos_weight=1, seed=None,\n",
       "       silent=None, subsample=0.9, verbose=10, verbosity=1),\n",
       "          fit_params=None, iid=True, n_iter=100, n_jobs=-1,\n",
       "          param_distributions={'reg_alpha': [0.5, 0.6, 0.7, 0.8, 0.9, 1.0, 1.1, 1.2, 1.3, 1.4, 1.5, 1.6, 1.7, 1.8, 1.9, 2.0, 2.1, 2.2, 2.3, 2.4, 2.5, 2.6, 2.7, 2.8, 2.9, 3.0, 3.1, 3.2, 3.3, 3.4, 3.5, 3.6, 3.7, 3.8, 3.9, 4.0, 4.1, 4.2, 4.3, 4.4, 4.5, 4.6, 4.7, 4.8, 4.9], 'reg_lambda': [0.5, 0.6, 0.7, 0.8, 0.9,...3.0, 3.1, 3.2, 3.3, 3.4, 3.5, 3.6, 3.7, 3.8, 3.9, 4.0, 4.1, 4.2, 4.3, 4.4, 4.5, 4.6, 4.7, 4.8, 4.9]},\n",
       "          pre_dispatch='2*n_jobs', random_state=None, refit=True,\n",
       "          return_train_score='warn', scoring=None, verbose=10)"
      ]
     },
     "execution_count": 113,
     "metadata": {},
     "output_type": "execute_result"
    }
   ],
   "source": [
    "random_search.fit(x_train,y_train)"
   ]
  },
  {
   "cell_type": "code",
   "execution_count": 114,
   "metadata": {},
   "outputs": [
    {
     "data": {
      "text/plain": [
       "XGBRegressor(base_score=0.5, booster='gbtree', colsample_bylevel=0.9,\n",
       "       colsample_bynode=1, colsample_bytree=0.7, gamma=0,\n",
       "       importance_type='gain', learning_rate=0.1, max_delta_step=0,\n",
       "       max_depth=3, min_child_weight=10, missing=None, n_estimators=50,\n",
       "       n_jobs=1, nthread=None, objective='reg:linear', random_state=0,\n",
       "       reg_alpha=3.0, reg_lambda=0.8, scale_pos_weight=1, seed=None,\n",
       "       silent=None, subsample=0.9, verbose=10, verbosity=1)"
      ]
     },
     "execution_count": 114,
     "metadata": {},
     "output_type": "execute_result"
    }
   ],
   "source": [
    "random_search.best_estimator_"
   ]
  },
  {
   "cell_type": "code",
   "execution_count": 117,
   "metadata": {},
   "outputs": [
    {
     "name": "stdout",
     "output_type": "stream",
     "text": [
      "Model with rank: 1\n",
      "Mean validation score: 0.603373509 (std: 0.015680495)\n",
      "Parameters: {'reg_lambda': 0.8, 'reg_alpha': 3.0}\n",
      "\n",
      "Model with rank: 2\n",
      "Mean validation score: 0.603373509 (std: 0.015680495)\n",
      "Parameters: {'reg_lambda': 0.8, 'reg_alpha': 3.0}\n",
      "\n",
      "Model with rank: 3\n",
      "Mean validation score: 0.603373509 (std: 0.015680495)\n",
      "Parameters: {'reg_lambda': 0.8, 'reg_alpha': 3.0}\n",
      "\n"
     ]
    }
   ],
   "source": [
    "report(random_search.cv_results_)"
   ]
  },
  {
   "cell_type": "code",
   "execution_count": 126,
   "metadata": {},
   "outputs": [],
   "source": [
    "xgb_best = XGBRegressor(learning_rate=0.1,n_estimators=50,verbose =10,\n",
    "                   max_depth=3, gamma=0,min_child_weight = 10,\n",
    "                   subsample =  0.9, colsample_bytree= 0.7, colsample_bylevel= 0.9,\n",
    "                   reg_alpha=3.0,reg_lambda=0.8)"
   ]
  },
  {
   "cell_type": "code",
   "execution_count": 127,
   "metadata": {},
   "outputs": [],
   "source": [
    "from sklearn.model_selection import cross_val_score"
   ]
  },
  {
   "cell_type": "code",
   "execution_count": 128,
   "metadata": {},
   "outputs": [
    {
     "name": "stderr",
     "output_type": "stream",
     "text": [
      "[Parallel(n_jobs=-1)]: Done   5 out of  10 | elapsed:    4.7s remaining:    4.7s\n",
      "[Parallel(n_jobs=-1)]: Done   7 out of  10 | elapsed:    4.7s remaining:    2.0s\n",
      "[Parallel(n_jobs=-1)]: Done  10 out of  10 | elapsed:    5.5s finished\n"
     ]
    },
    {
     "data": {
      "text/plain": [
       "array([0.65011337, 0.59183734, 0.57546199, 0.62395145, 0.55101886,\n",
       "       0.61910499, 0.64714876, 0.58558874, 0.57502479, 0.58998075])"
      ]
     },
     "execution_count": 128,
     "metadata": {},
     "output_type": "execute_result"
    }
   ],
   "source": [
    "cross_val_score(xgb_best,x_train,y_train,verbose=10,n_jobs=-1,cv = 10)"
   ]
  },
  {
   "cell_type": "code",
   "execution_count": 129,
   "metadata": {},
   "outputs": [],
   "source": [
    "scores = [0.65011337, 0.59183734, 0.57546199, 0.62395145, 0.55101886,\n",
    "       0.61910499, 0.64714876, 0.58558874, 0.57502479, 0.58998075]"
   ]
  },
  {
   "cell_type": "code",
   "execution_count": 123,
   "metadata": {},
   "outputs": [
    {
     "data": {
      "text/plain": [
       "0.6009231039999999"
      ]
     },
     "execution_count": 123,
     "metadata": {},
     "output_type": "execute_result"
    }
   ],
   "source": [
    "np.mean(scores)"
   ]
  },
  {
   "cell_type": "code",
   "execution_count": 124,
   "metadata": {},
   "outputs": [
    {
     "data": {
      "text/plain": [
       "0.0310873491005239"
      ]
     },
     "execution_count": 124,
     "metadata": {},
     "output_type": "execute_result"
    }
   ],
   "source": [
    "np.std(scores)"
   ]
  },
  {
   "cell_type": "code",
   "execution_count": 130,
   "metadata": {},
   "outputs": [
    {
     "name": "stdout",
     "output_type": "stream",
     "text": [
      "[21:50:44] WARNING: C:/Jenkins/workspace/xgboost-win64_release_0.90/src/objective/regression_obj.cu:152: reg:linear is now deprecated in favor of reg:squarederror.\n"
     ]
    },
    {
     "data": {
      "text/plain": [
       "XGBRegressor(base_score=0.5, booster='gbtree', colsample_bylevel=0.9,\n",
       "       colsample_bynode=1, colsample_bytree=0.7, gamma=0,\n",
       "       importance_type='gain', learning_rate=0.1, max_delta_step=0,\n",
       "       max_depth=3, min_child_weight=10, missing=None, n_estimators=50,\n",
       "       n_jobs=1, nthread=None, objective='reg:linear', random_state=0,\n",
       "       reg_alpha=3.0, reg_lambda=0.8, scale_pos_weight=1, seed=None,\n",
       "       silent=None, subsample=0.9, verbose=10, verbosity=1)"
      ]
     },
     "execution_count": 130,
     "metadata": {},
     "output_type": "execute_result"
    }
   ],
   "source": [
    "xgb_best.fit(x_train,y_train)"
   ]
  },
  {
   "cell_type": "code",
   "execution_count": 136,
   "metadata": {},
   "outputs": [],
   "source": [
    "sales = xgb_best.predict(cftest)"
   ]
  },
  {
   "cell_type": "code",
   "execution_count": 133,
   "metadata": {},
   "outputs": [],
   "source": [
    "from sklearn.metrics import mean_absolute_error"
   ]
  },
  {
   "cell_type": "code",
   "execution_count": 137,
   "metadata": {},
   "outputs": [],
   "source": [
    "pd.DataFrame(sales).to_csv(\"omkar_mayekar_P3_part2\",index = False)"
   ]
  },
  {
   "cell_type": "code",
   "execution_count": null,
   "metadata": {},
   "outputs": [],
   "source": []
  }
 ],
 "metadata": {
  "kernelspec": {
   "display_name": "Python 3",
   "language": "python",
   "name": "python3"
  },
  "language_info": {
   "codemirror_mode": {
    "name": "ipython",
    "version": 3
   },
   "file_extension": ".py",
   "mimetype": "text/x-python",
   "name": "python",
   "nbconvert_exporter": "python",
   "pygments_lexer": "ipython3",
   "version": "3.6.4"
  }
 },
 "nbformat": 4,
 "nbformat_minor": 2
}
